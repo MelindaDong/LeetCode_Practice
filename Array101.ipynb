{
 "cells": [
  {
   "cell_type": "markdown",
   "id": "41cdffe1",
   "metadata": {},
   "source": [
    "## Max Consecutive Ones\n",
    "\n",
    "_12/07/2022_\n",
    "\n",
    "Given a binary array nums, return the maximum number of consecutive 1's in the array.\n",
    "\n",
    "Example:\n",
    "\n",
    "- Input: nums = [1,1,0,1,1,1]\n",
    "- Output: 3\n",
    "\n",
    "Explanation: The first two digits or the last three digits are consecutive 1s. The maximum number of consecutive 1s is 3."
   ]
  },
  {
   "cell_type": "code",
   "execution_count": 43,
   "id": "daf49dbe",
   "metadata": {},
   "outputs": [],
   "source": [
    "# My code\n",
    "def findMaxConsecutiveOnes(nums) -> int:\n",
    "        outcome = 0\n",
    "        curr_1s = 0\n",
    "        for i in nums:\n",
    "            if i != 0:\n",
    "                curr_1s = curr_1s + 1  # curr_1s +=1\n",
    "                if curr_1s > outcome:  #outcome = max(curr_1s, outcome)\n",
    "                    outcome = curr_1s\n",
    "            else:\n",
    "                curr_1s = 0                                          \n",
    "        return outcome\n",
    "    \n",
    "# Other idea"
   ]
  },
  {
   "cell_type": "code",
   "execution_count": 44,
   "id": "808bcecb",
   "metadata": {},
   "outputs": [
    {
     "data": {
      "text/plain": [
       "3"
      ]
     },
     "execution_count": 44,
     "metadata": {},
     "output_type": "execute_result"
    }
   ],
   "source": [
    "# testing\n",
    "test = [1,1,0,1,1,1]\n",
    "findMaxConsecutiveOnes(test)"
   ]
  },
  {
   "cell_type": "markdown",
   "id": "a931e7a8",
   "metadata": {},
   "source": [
    "## Find Numbers with Even Number of Digits\n",
    "_13/07/2022_\n",
    "\n",
    "Given an array nums of integers, return how many of them contain an even number of digits.\n",
    "\n",
    "Example:\n",
    "\n",
    "- Input: nums = [12,345,2,6,7896]\n",
    "- Output: 2\n",
    "\n",
    "Explanation: \n",
    "12 contains 2 digits (even number of digits). \n",
    "345 contains 3 digits (odd number of digits). \n",
    "2 contains 1 digit (odd number of digits). \n",
    "6 contains 1 digit (odd number of digits). \n",
    "7896 contains 4 digits (even number of digits). \n",
    "Therefore only 12 and 7896 contain an even number of digits."
   ]
  },
  {
   "cell_type": "code",
   "execution_count": null,
   "id": "62aec7bb",
   "metadata": {},
   "outputs": [],
   "source": []
  },
  {
   "cell_type": "code",
   "execution_count": null,
   "id": "0e8f8080",
   "metadata": {},
   "outputs": [],
   "source": []
  },
  {
   "cell_type": "code",
   "execution_count": null,
   "id": "9d5e97cc",
   "metadata": {},
   "outputs": [],
   "source": []
  },
  {
   "cell_type": "code",
   "execution_count": null,
   "id": "6464190f",
   "metadata": {},
   "outputs": [],
   "source": []
  }
 ],
 "metadata": {
  "kernelspec": {
   "display_name": "Python 3 (ipykernel)",
   "language": "python",
   "name": "python3"
  },
  "language_info": {
   "codemirror_mode": {
    "name": "ipython",
    "version": 3
   },
   "file_extension": ".py",
   "mimetype": "text/x-python",
   "name": "python",
   "nbconvert_exporter": "python",
   "pygments_lexer": "ipython3",
   "version": "3.9.7"
  }
 },
 "nbformat": 4,
 "nbformat_minor": 5
}
